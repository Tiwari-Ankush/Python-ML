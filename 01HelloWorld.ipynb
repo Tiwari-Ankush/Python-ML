{
  "nbformat": 4,
  "nbformat_minor": 0,
  "metadata": {
    "kernelspec": {
      "name": "python3",
      "display_name": "Python 3"
    },
    "language_info": {
      "codemirror_mode": {
        "name": "ipython",
        "version": 3
      },
      "file_extension": ".py",
      "mimetype": "text/x-python",
      "name": "python",
      "nbconvert_exporter": "python",
      "pygments_lexer": "ipython3",
      "version": "3.7.4"
    },
    "colab": {
      "provenance": [],
      "include_colab_link": true
    },
    "accelerator": "GPU"
  },
  "cells": [
    {
      "cell_type": "markdown",
      "metadata": {
        "id": "view-in-github",
        "colab_type": "text"
      },
      "source": [
        "<a href=\"https://colab.research.google.com/github/Tiwari-Ankush/Python-ML/blob/main/01HelloWorld.ipynb\" target=\"_parent\"><img src=\"https://colab.research.google.com/assets/colab-badge.svg\" alt=\"Open In Colab\"/></a>"
      ]
    },
    {
      "cell_type": "markdown",
      "metadata": {
        "id": "zCZJtoLQCWmT"
      },
      "source": [
        "# Illustrate Jupyter Notebook\n",
        "## Hello World Script\n",
        "\n",
        "This is a demonstration of how Jupyter Notebook works"
      ]
    },
    {
      "cell_type": "markdown",
      "metadata": {
        "id": "deusame9CWmU"
      },
      "source": [
        "### Print Text to the Console"
      ]
    },
    {
      "cell_type": "code",
      "metadata": {
        "id": "-VvyNyd_CWmV",
        "outputId": "7a94050e-50a7-442c-eb23-94e5f3b9fed4",
        "colab": {
          "base_uri": "https://localhost:8080/"
        }
      },
      "source": [
        "print('Hello World')"
      ],
      "execution_count": 1,
      "outputs": [
        {
          "output_type": "stream",
          "name": "stdout",
          "text": [
            "Hello World\n"
          ]
        }
      ]
    },
    {
      "cell_type": "code",
      "metadata": {
        "id": "p0NNK4qfCWmZ",
        "outputId": "2f170c32-99d3-454f-f44f-3239eccbc00f",
        "colab": {
          "base_uri": "https://localhost:8080/"
        }
      },
      "source": [
        "print(\"Hello World\")"
      ],
      "execution_count": 2,
      "outputs": [
        {
          "output_type": "stream",
          "name": "stdout",
          "text": [
            "Hello World\n"
          ]
        }
      ]
    },
    {
      "cell_type": "markdown",
      "metadata": {
        "id": "7BslWZTkCWmc"
      },
      "source": [
        "### Using Python as a Calculator"
      ]
    },
    {
      "cell_type": "code",
      "metadata": {
        "id": "GsB5uiHBCWmd",
        "outputId": "4df234fa-d7b7-4345-ac19-5adfa51d103f",
        "colab": {
          "base_uri": "https://localhost:8080/"
        }
      },
      "source": [
        "1 + 1"
      ],
      "execution_count": 3,
      "outputs": [
        {
          "output_type": "execute_result",
          "data": {
            "text/plain": [
              "2"
            ]
          },
          "metadata": {},
          "execution_count": 3
        }
      ]
    },
    {
      "cell_type": "code",
      "metadata": {
        "id": "6SJ9kqmbCWmf",
        "outputId": "ba3629bc-dbfb-4415-a4dc-efe611953483",
        "colab": {
          "base_uri": "https://localhost:8080/"
        }
      },
      "source": [
        "1 + 1\n",
        "2 + 2"
      ],
      "execution_count": 4,
      "outputs": [
        {
          "output_type": "execute_result",
          "data": {
            "text/plain": [
              "4"
            ]
          },
          "metadata": {},
          "execution_count": 4
        }
      ]
    },
    {
      "cell_type": "code",
      "metadata": {
        "id": "5a4v-ueJCWmh",
        "outputId": "32066827-7172-448b-f9b3-610f1979c628",
        "colab": {
          "base_uri": "https://localhost:8080/"
        }
      },
      "source": [
        "print(1+1)"
      ],
      "execution_count": 5,
      "outputs": [
        {
          "output_type": "stream",
          "name": "stdout",
          "text": [
            "2\n"
          ]
        }
      ]
    },
    {
      "cell_type": "code",
      "metadata": {
        "id": "qnKH-TaoCWmj",
        "outputId": "0156e281-074c-4a64-c8ec-7566b4c1f786",
        "colab": {
          "base_uri": "https://localhost:8080/"
        }
      },
      "source": [
        "print(1 + 1)\n",
        "print(2 + 2)"
      ],
      "execution_count": 6,
      "outputs": [
        {
          "output_type": "stream",
          "name": "stdout",
          "text": [
            "2\n",
            "4\n"
          ]
        }
      ]
    },
    {
      "cell_type": "code",
      "metadata": {
        "id": "yWkJ3YIKCWmm"
      },
      "source": [
        "var = 5"
      ],
      "execution_count": 7,
      "outputs": []
    },
    {
      "cell_type": "code",
      "metadata": {
        "id": "OfoXvNZrCWmo",
        "outputId": "11cc5dda-a32c-4ae5-c3ec-ef2d5e8c2c17",
        "colab": {
          "base_uri": "https://localhost:8080/"
        }
      },
      "source": [
        "var"
      ],
      "execution_count": 8,
      "outputs": [
        {
          "output_type": "execute_result",
          "data": {
            "text/plain": [
              "5"
            ]
          },
          "metadata": {},
          "execution_count": 8
        }
      ]
    },
    {
      "cell_type": "code",
      "metadata": {
        "id": "p922ViwKCWmr",
        "outputId": "6e1cdc44-5e55-45a4-c95e-f5aa86cbc2d1",
        "colab": {
          "base_uri": "https://localhost:8080/"
        }
      },
      "source": [
        "1+1\n",
        "var"
      ],
      "execution_count": 9,
      "outputs": [
        {
          "output_type": "execute_result",
          "data": {
            "text/plain": [
              "5"
            ]
          },
          "metadata": {},
          "execution_count": 9
        }
      ]
    },
    {
      "cell_type": "code",
      "metadata": {
        "id": "LMWGPnzCCWmt",
        "outputId": "13468f83-c692-47fb-c24c-701e87b3bcdb",
        "colab": {
          "base_uri": "https://localhost:8080/"
        }
      },
      "source": [
        "print(1+1)\n",
        "print(var)"
      ],
      "execution_count": 10,
      "outputs": [
        {
          "output_type": "stream",
          "name": "stdout",
          "text": [
            "2\n",
            "5\n"
          ]
        }
      ]
    },
    {
      "cell_type": "markdown",
      "metadata": {
        "id": "k8T-zaT0CWmv"
      },
      "source": [
        "$x=\\frac{1}{7}$"
      ]
    },
    {
      "cell_type": "code",
      "metadata": {
        "id": "87B4A6GjCWmv",
        "outputId": "ff9345ac-b535-425a-930a-986a3f50da13",
        "colab": {
          "base_uri": "https://localhost:8080/"
        }
      },
      "source": [
        "2**3"
      ],
      "execution_count": 11,
      "outputs": [
        {
          "output_type": "execute_result",
          "data": {
            "text/plain": [
              "8"
            ]
          },
          "metadata": {},
          "execution_count": 11
        }
      ]
    },
    {
      "cell_type": "code",
      "metadata": {
        "id": "cKH-RwUBCWmx",
        "outputId": "2c3b2289-6831-4538-fe86-3ba5b654f077",
        "colab": {
          "base_uri": "https://localhost:8080/"
        }
      },
      "source": [
        "2**2"
      ],
      "execution_count": 12,
      "outputs": [
        {
          "output_type": "execute_result",
          "data": {
            "text/plain": [
              "4"
            ]
          },
          "metadata": {},
          "execution_count": 12
        }
      ]
    },
    {
      "cell_type": "markdown",
      "metadata": {
        "id": "SK-ZQC8DCWmz"
      },
      "source": [
        "***"
      ]
    }
  ]
}